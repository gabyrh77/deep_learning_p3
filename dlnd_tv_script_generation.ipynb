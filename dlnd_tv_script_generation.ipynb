{
 "cells": [
  {
   "cell_type": "markdown",
   "metadata": {
    "deletable": true,
    "editable": true
   },
   "source": [
    "# TV Script Generation\n",
    "In this project, you'll generate your own [Simpsons](https://en.wikipedia.org/wiki/The_Simpsons) TV scripts using RNNs.  You'll be using part of the [Simpsons dataset](https://www.kaggle.com/wcukierski/the-simpsons-by-the-data) of scripts from 27 seasons.  The Neural Network you'll build will generate a new TV script for a scene at [Moe's Tavern](https://simpsonswiki.com/wiki/Moe's_Tavern).\n",
    "## Get the Data\n",
    "The data is already provided for you.  You'll be using a subset of the original dataset.  It consists of only the scenes in Moe's Tavern.  This doesn't include other versions of the tavern, like \"Moe's Cavern\", \"Flaming Moe's\", \"Uncle Moe's Family Feed-Bag\", etc.."
   ]
  },
  {
   "cell_type": "code",
   "execution_count": 1,
   "metadata": {
    "collapsed": true,
    "deletable": true,
    "editable": true
   },
   "outputs": [],
   "source": [
    "\"\"\"\n",
    "DON'T MODIFY ANYTHING IN THIS CELL\n",
    "\"\"\"\n",
    "import helper\n",
    "\n",
    "data_dir = './data/simpsons/moes_tavern_lines.txt'\n",
    "text = helper.load_data(data_dir)\n",
    "# Ignore notice, since we don't use it for analysing the data\n",
    "text = text[81:]"
   ]
  },
  {
   "cell_type": "markdown",
   "metadata": {
    "deletable": true,
    "editable": true
   },
   "source": [
    "## Explore the Data\n",
    "Play around with `view_sentence_range` to view different parts of the data."
   ]
  },
  {
   "cell_type": "code",
   "execution_count": 2,
   "metadata": {
    "collapsed": false,
    "deletable": true,
    "editable": true
   },
   "outputs": [
    {
     "name": "stdout",
     "output_type": "stream",
     "text": [
      "Dataset Stats\n",
      "Roughly the number of unique words: 11492\n",
      "Number of scenes: 262\n",
      "Average number of sentences in each scene: 15.248091603053435\n",
      "Number of lines: 4257\n",
      "Average number of words in each line: 11.50434578341555\n",
      "\n",
      "The sentences 0 to 10:\n",
      "Moe_Szyslak: (INTO PHONE) Moe's Tavern. Where the elite meet to drink.\n",
      "Bart_Simpson: Eh, yeah, hello, is Mike there? Last name, Rotch.\n",
      "Moe_Szyslak: (INTO PHONE) Hold on, I'll check. (TO BARFLIES) Mike Rotch. Mike Rotch. Hey, has anybody seen Mike Rotch, lately?\n",
      "Moe_Szyslak: (INTO PHONE) Listen you little puke. One of these days I'm gonna catch you, and I'm gonna carve my name on your back with an ice pick.\n",
      "Moe_Szyslak: What's the matter Homer? You're not your normal effervescent self.\n",
      "Homer_Simpson: I got my problems, Moe. Give me another one.\n",
      "Moe_Szyslak: Homer, hey, you should not drink to forget your problems.\n",
      "Barney_Gumble: Yeah, you should only drink to enhance your social skills.\n",
      "\n",
      "\n"
     ]
    }
   ],
   "source": [
    "view_sentence_range = (0, 10)\n",
    "\n",
    "\"\"\"\n",
    "DON'T MODIFY ANYTHING IN THIS CELL\n",
    "\"\"\"\n",
    "import numpy as np\n",
    "\n",
    "print('Dataset Stats')\n",
    "print('Roughly the number of unique words: {}'.format(len({word: None for word in text.split()})))\n",
    "scenes = text.split('\\n\\n')\n",
    "print('Number of scenes: {}'.format(len(scenes)))\n",
    "sentence_count_scene = [scene.count('\\n') for scene in scenes]\n",
    "print('Average number of sentences in each scene: {}'.format(np.average(sentence_count_scene)))\n",
    "\n",
    "sentences = [sentence for scene in scenes for sentence in scene.split('\\n')]\n",
    "print('Number of lines: {}'.format(len(sentences)))\n",
    "word_count_sentence = [len(sentence.split()) for sentence in sentences]\n",
    "print('Average number of words in each line: {}'.format(np.average(word_count_sentence)))\n",
    "\n",
    "print()\n",
    "print('The sentences {} to {}:'.format(*view_sentence_range))\n",
    "print('\\n'.join(text.split('\\n')[view_sentence_range[0]:view_sentence_range[1]]))"
   ]
  },
  {
   "cell_type": "markdown",
   "metadata": {
    "deletable": true,
    "editable": true
   },
   "source": [
    "## Implement Preprocessing Functions\n",
    "The first thing to do to any dataset is preprocessing.  Implement the following preprocessing functions below:\n",
    "- Lookup Table\n",
    "- Tokenize Punctuation\n",
    "\n",
    "### Lookup Table\n",
    "To create a word embedding, you first need to transform the words to ids.  In this function, create two dictionaries:\n",
    "- Dictionary to go from the words to an id, we'll call `vocab_to_int`\n",
    "- Dictionary to go from the id to word, we'll call `int_to_vocab`\n",
    "\n",
    "Return these dictionaries in the following tuple `(vocab_to_int, int_to_vocab)`"
   ]
  },
  {
   "cell_type": "code",
   "execution_count": 3,
   "metadata": {
    "collapsed": false,
    "deletable": true,
    "editable": true
   },
   "outputs": [
    {
     "name": "stdout",
     "output_type": "stream",
     "text": [
      "Tests Passed\n"
     ]
    }
   ],
   "source": [
    "import numpy as np\n",
    "import problem_unittests as tests\n",
    "from collections import Counter\n",
    "\n",
    "\"\"\"\n",
    "    Create lookup tables for vocabulary\n",
    "    :param text: The text of tv scripts split into words\n",
    "    :return: A tuple of dicts (vocab_to_int, int_to_vocab)\n",
    "\"\"\"\n",
    "def create_lookup_tables(text):\n",
    "\n",
    "    vocab = Counter(text)\n",
    "    vocab_to_int = {word: idx for idx, word in enumerate(sorted(vocab, key=vocab.__getitem__, reverse=True))}\n",
    "    int_to_vocab = {vocab_to_int[word]: word for word in vocab.keys()}\n",
    "    return vocab_to_int, int_to_vocab\n",
    "\n",
    "\n",
    "\"\"\"\n",
    "DON'T MODIFY ANYTHING IN THIS CELL THAT IS BELOW THIS LINE\n",
    "\"\"\"\n",
    "tests.test_create_lookup_tables(create_lookup_tables)"
   ]
  },
  {
   "cell_type": "markdown",
   "metadata": {
    "deletable": true,
    "editable": true
   },
   "source": [
    "### Tokenize Punctuation\n",
    "We'll be splitting the script into a word array using spaces as delimiters.  However, punctuations like periods and exclamation marks make it hard for the neural network to distinguish between the word \"bye\" and \"bye!\".\n",
    "\n",
    "Implement the function `token_lookup` to return a dict that will be used to tokenize symbols like \"!\" into \"||Exclamation_Mark||\".  Create a dictionary for the following symbols where the symbol is the key and value is the token:\n",
    "- Period ( . )\n",
    "- Comma ( , )\n",
    "- Quotation Mark ( \" )\n",
    "- Semicolon ( ; )\n",
    "- Exclamation mark ( ! )\n",
    "- Question mark ( ? )\n",
    "- Left Parentheses ( ( )\n",
    "- Right Parentheses ( ) )\n",
    "- Dash ( -- )\n",
    "- Return ( \\n )\n",
    "\n",
    "This dictionary will be used to token the symbols and add the delimiter (space) around it.  This separates the symbols as it's own word, making it easier for the neural network to predict on the next word. Make sure you don't use a token that could be confused as a word. Instead of using the token \"dash\", try using something like \"||dash||\"."
   ]
  },
  {
   "cell_type": "code",
   "execution_count": 4,
   "metadata": {
    "collapsed": false,
    "deletable": true,
    "editable": true
   },
   "outputs": [
    {
     "name": "stdout",
     "output_type": "stream",
     "text": [
      "Tests Passed\n"
     ]
    }
   ],
   "source": [
    "\"\"\"\n",
    "    Generate a dict to turn punctuation into a token.\n",
    "    :return: Tokenize dictionary where the key is the punctuation and the value is the token\n",
    "\"\"\"\n",
    "def token_lookup():\n",
    "    return {'.': '||Period||', ',': '||Comma||', ';': '||Semicolon||',\n",
    "            '\"': '||Quotation_Mark||', '!': '||Exclamation_Mark||',\n",
    "            '?': '||Question_Mark||', '(': '||Left_Parentheses||',\n",
    "            ')': '||Right_Parentheses||', '--': '||Dash||', '\\n': '||New_Line||'\n",
    "           }\n",
    "\n",
    "\"\"\"\n",
    "DON'T MODIFY ANYTHING IN THIS CELL THAT IS BELOW THIS LINE\n",
    "\"\"\"\n",
    "tests.test_tokenize(token_lookup)"
   ]
  },
  {
   "cell_type": "markdown",
   "metadata": {
    "deletable": true,
    "editable": true
   },
   "source": [
    "## Preprocess all the data and save it\n",
    "Running the code cell below will preprocess all the data and save it to file."
   ]
  },
  {
   "cell_type": "code",
   "execution_count": 5,
   "metadata": {
    "collapsed": true,
    "deletable": true,
    "editable": true
   },
   "outputs": [],
   "source": [
    "\"\"\"\n",
    "DON'T MODIFY ANYTHING IN THIS CELL\n",
    "\"\"\"\n",
    "# Preprocess Training, Validation, and Testing Data\n",
    "helper.preprocess_and_save_data(data_dir, token_lookup, create_lookup_tables)"
   ]
  },
  {
   "cell_type": "markdown",
   "metadata": {
    "deletable": true,
    "editable": true
   },
   "source": [
    "# Check Point\n",
    "This is your first checkpoint. If you ever decide to come back to this notebook or have to restart the notebook, you can start from here. The preprocessed data has been saved to disk."
   ]
  },
  {
   "cell_type": "code",
   "execution_count": 1,
   "metadata": {
    "collapsed": true,
    "deletable": true,
    "editable": true
   },
   "outputs": [],
   "source": [
    "\"\"\"\n",
    "DON'T MODIFY ANYTHING IN THIS CELL\n",
    "\"\"\"\n",
    "import helper\n",
    "import numpy as np\n",
    "import problem_unittests as tests\n",
    "\n",
    "int_text, vocab_to_int, int_to_vocab, token_dict = helper.load_preprocess()"
   ]
  },
  {
   "cell_type": "markdown",
   "metadata": {
    "deletable": true,
    "editable": true
   },
   "source": [
    "## Build the Neural Network\n",
    "You'll build the components necessary to build a RNN by implementing the following functions below:\n",
    "- get_inputs\n",
    "- get_init_cell\n",
    "- get_embed\n",
    "- build_rnn\n",
    "- build_nn\n",
    "- get_batches\n",
    "\n",
    "### Check the Version of TensorFlow and Access to GPU"
   ]
  },
  {
   "cell_type": "code",
   "execution_count": 2,
   "metadata": {
    "collapsed": false,
    "deletable": true,
    "editable": true
   },
   "outputs": [
    {
     "name": "stdout",
     "output_type": "stream",
     "text": [
      "TensorFlow Version: 1.0.0\n",
      "Default GPU Device: /gpu:0\n"
     ]
    }
   ],
   "source": [
    "\"\"\"\n",
    "DON'T MODIFY ANYTHING IN THIS CELL\n",
    "\"\"\"\n",
    "from distutils.version import LooseVersion\n",
    "import warnings\n",
    "import tensorflow as tf\n",
    "\n",
    "# Check TensorFlow Version\n",
    "assert LooseVersion(tf.__version__) >= LooseVersion('1.0'), 'Please use TensorFlow version 1.0 or newer'\n",
    "print('TensorFlow Version: {}'.format(tf.__version__))\n",
    "\n",
    "# Check for a GPU\n",
    "if not tf.test.gpu_device_name():\n",
    "    warnings.warn('No GPU found. Please use a GPU to train your neural network.')\n",
    "else:\n",
    "    print('Default GPU Device: {}'.format(tf.test.gpu_device_name()))"
   ]
  },
  {
   "cell_type": "markdown",
   "metadata": {
    "deletable": true,
    "editable": true
   },
   "source": [
    "### Input\n",
    "Implement the `get_inputs()` function to create TF Placeholders for the Neural Network.  It should create the following placeholders:\n",
    "- Input text placeholder named \"input\" using the [TF Placeholder](https://www.tensorflow.org/api_docs/python/tf/placeholder) `name` parameter.\n",
    "- Targets placeholder\n",
    "- Learning Rate placeholder\n",
    "\n",
    "Return the placeholders in the following tuple `(Input, Targets, LearningRate)`"
   ]
  },
  {
   "cell_type": "code",
   "execution_count": 3,
   "metadata": {
    "collapsed": false,
    "deletable": true,
    "editable": true
   },
   "outputs": [
    {
     "name": "stdout",
     "output_type": "stream",
     "text": [
      "Tests Passed\n"
     ]
    }
   ],
   "source": [
    "\"\"\"\n",
    "    Create TF Placeholders for input, targets, and learning rate.\n",
    "    :return: Tuple (input, targets, learning rate)\n",
    "\"\"\"\n",
    "def get_inputs():\n",
    "    inputs = tf.placeholder(tf.int32, [None, None], 'input') \n",
    "    targets = tf.placeholder(tf.int32, [None, None], 'target')\n",
    "    learning_rate = tf.placeholder(tf.float32)\n",
    "    return inputs, targets, learning_rate\n",
    "\n",
    "\n",
    "\"\"\"\n",
    "DON'T MODIFY ANYTHING IN THIS CELL THAT IS BELOW THIS LINE\n",
    "\"\"\"\n",
    "tests.test_get_inputs(get_inputs)"
   ]
  },
  {
   "cell_type": "markdown",
   "metadata": {
    "deletable": true,
    "editable": true
   },
   "source": [
    "### Build RNN Cell and Initialize\n",
    "Stack one or more [`BasicLSTMCells`](https://www.tensorflow.org/api_docs/python/tf/contrib/rnn/BasicLSTMCell) in a [`MultiRNNCell`](https://www.tensorflow.org/api_docs/python/tf/contrib/rnn/MultiRNNCell).\n",
    "- The Rnn size should be set using `rnn_size`\n",
    "- Initalize Cell State using the MultiRNNCell's [`zero_state()`](https://www.tensorflow.org/api_docs/python/tf/contrib/rnn/MultiRNNCell#zero_state) function\n",
    "    - Apply the name \"initial_state\" to the initial state using [`tf.identity()`](https://www.tensorflow.org/api_docs/python/tf/identity)\n",
    "\n",
    "Return the cell and initial state in the following tuple `(Cell, InitialState)`"
   ]
  },
  {
   "cell_type": "code",
   "execution_count": 4,
   "metadata": {
    "collapsed": false,
    "deletable": true,
    "editable": true
   },
   "outputs": [
    {
     "name": "stdout",
     "output_type": "stream",
     "text": [
      "Tests Passed\n"
     ]
    }
   ],
   "source": [
    "\"\"\"\n",
    "    Create a basic LSTM Cell.\n",
    "    :param rnn_size: Size of LSTM cell\n",
    "    :param keep_prob: Dropout keep probability\n",
    "    :return: BasicLSTMCell\n",
    "\"\"\"\n",
    "def lstm_cell(lstm_size, keep_prob):\n",
    "    lstm = tf.contrib.rnn.BasicLSTMCell(lstm_size)\n",
    "    return tf.contrib.rnn.DropoutWrapper(lstm, output_keep_prob=keep_prob)\n",
    "\n",
    "\"\"\"\n",
    "    Create an RNN Cell and initialize it.\n",
    "    :param batch_size: Size of batches\n",
    "    :param rnn_size: Size of RNNs (hidden units)\n",
    "    :param number_of_layers: Number of RNN layers\n",
    "    :return: Tuple (cell, initialize state)\n",
    "\"\"\"\n",
    "def get_init_cell(batch_size, rnn_size, number_of_layers=2, keep_prob=1.0):\n",
    "    stacked_lstm = tf.contrib.rnn.MultiRNNCell([lstm_cell(rnn_size, keep_prob) for _ in range(number_of_layers)])\n",
    "    initial_state = tf.identity(stacked_lstm.zero_state(batch_size, tf.float32), 'initial_state')\n",
    "    return stacked_lstm, initial_state\n",
    "\n",
    "\n",
    "\"\"\"\n",
    "DON'T MODIFY ANYTHING IN THIS CELL THAT IS BELOW THIS LINE\n",
    "\"\"\"\n",
    "tests.test_get_init_cell(get_init_cell)"
   ]
  },
  {
   "cell_type": "markdown",
   "metadata": {
    "deletable": true,
    "editable": true
   },
   "source": [
    "### Word Embedding\n",
    "Apply embedding to `input_data` using TensorFlow.  Return the embedded sequence."
   ]
  },
  {
   "cell_type": "code",
   "execution_count": 5,
   "metadata": {
    "collapsed": false,
    "deletable": true,
    "editable": true
   },
   "outputs": [
    {
     "name": "stdout",
     "output_type": "stream",
     "text": [
      "Tests Passed\n"
     ]
    }
   ],
   "source": [
    "\"\"\"\n",
    "    Create embedding for <input_data>.\n",
    "    :param input_data: TF placeholder for text input.\n",
    "    :param vocab_size: Number of words in vocabulary.\n",
    "    :param embed_dim: Number of embedding dimensions\n",
    "    :return: Embedded input.\n",
    "\"\"\"\n",
    "def get_embed(input_data, vocab_size, embed_dim):\n",
    "    embedding_matrix = tf.Variable(tf.random_uniform((vocab_size, embed_dim), -1, 1), name='embedding_matrix')\n",
    "    return tf.nn.embedding_lookup(embedding_matrix, input_data)\n",
    "\n",
    "\n",
    "\"\"\"\n",
    "DON'T MODIFY ANYTHING IN THIS CELL THAT IS BELOW THIS LINE\n",
    "\"\"\"\n",
    "tests.test_get_embed(get_embed)"
   ]
  },
  {
   "cell_type": "markdown",
   "metadata": {
    "deletable": true,
    "editable": true
   },
   "source": [
    "### Build RNN\n",
    "You created a RNN Cell in the `get_init_cell()` function.  Time to use the cell to create a RNN.\n",
    "- Build the RNN using the [`tf.nn.dynamic_rnn()`](https://www.tensorflow.org/api_docs/python/tf/nn/dynamic_rnn)\n",
    " - Apply the name \"final_state\" to the final state using [`tf.identity()`](https://www.tensorflow.org/api_docs/python/tf/identity)\n",
    "\n",
    "Return the outputs and final_state state in the following tuple `(Outputs, FinalState)` "
   ]
  },
  {
   "cell_type": "code",
   "execution_count": 6,
   "metadata": {
    "collapsed": false,
    "deletable": true,
    "editable": true
   },
   "outputs": [
    {
     "name": "stdout",
     "output_type": "stream",
     "text": [
      "Tests Passed\n"
     ]
    }
   ],
   "source": [
    "\"\"\"\n",
    "    Create a RNN using a RNN Cell\n",
    "    :param cell: RNN Cell\n",
    "    :param inputs: Input text data\n",
    "    :param initial_state: RNN cell initial state\n",
    "    :return: Tuple (Outputs, Final State)\n",
    "\"\"\"\n",
    "def build_rnn(cell, inputs):\n",
    "    outputs, final_state = tf.nn.dynamic_rnn(cell, inputs, dtype=tf.float32)\n",
    "    final_state = tf.identity(final_state, 'final_state')\n",
    "    return outputs, final_state\n",
    "\n",
    "\n",
    "\"\"\"\n",
    "DON'T MODIFY ANYTHING IN THIS CELL THAT IS BELOW THIS LINE\n",
    "\"\"\"\n",
    "tests.test_build_rnn(build_rnn)"
   ]
  },
  {
   "cell_type": "markdown",
   "metadata": {
    "deletable": true,
    "editable": true
   },
   "source": [
    "### Build the Neural Network\n",
    "Apply the functions you implemented above to:\n",
    "- Apply embedding to `input_data` using your `get_embed(input_data, vocab_size, embed_dim)` function.\n",
    "- Build RNN using `cell` and your `build_rnn(cell, inputs)` function.\n",
    "- Apply a fully connected layer with a linear activation and `vocab_size` as the number of outputs.\n",
    "\n",
    "Return the logits and final state in the following tuple (Logits, FinalState) "
   ]
  },
  {
   "cell_type": "code",
   "execution_count": 7,
   "metadata": {
    "collapsed": false,
    "deletable": true,
    "editable": true
   },
   "outputs": [
    {
     "name": "stdout",
     "output_type": "stream",
     "text": [
      "Tests Passed\n"
     ]
    }
   ],
   "source": [
    "\"\"\"\n",
    "    Build part of the neural network\n",
    "    :param cell: RNN cell\n",
    "    :param rnn_size: Size of rnns\n",
    "    :param input_data: Input data\n",
    "    :param vocab_size: Vocabulary size\n",
    "    :param embed_dim: Number of embedding dimensions\n",
    "    :return: Tuple (Logits, FinalState)\n",
    "\"\"\"\n",
    "def build_nn(cell, rnn_size, input_data, vocab_size, embed_dim):\n",
    "    embed_layer = get_embed(input_data, vocab_size, embed_dim)\n",
    "    outputs, final_state = build_rnn(cell, embed_layer)\n",
    "    logits = tf.contrib.layers.fully_connected(outputs, vocab_size, activation_fn=None)\n",
    "    return logits, final_state\n",
    "\n",
    "\n",
    "\"\"\"\n",
    "DON'T MODIFY ANYTHING IN THIS CELL THAT IS BELOW THIS LINE\n",
    "\"\"\"\n",
    "tests.test_build_nn(build_nn)"
   ]
  },
  {
   "cell_type": "markdown",
   "metadata": {
    "deletable": true,
    "editable": true
   },
   "source": [
    "### Batches\n",
    "Implement `get_batches` to create batches of input and targets using `int_text`.  The batches should be a Numpy array with the shape `(number of batches, 2, batch size, sequence length)`. Each batch contains two elements:\n",
    "- The first element is a single batch of **input** with the shape `[batch size, sequence length]`\n",
    "- The second element is a single batch of **targets** with the shape `[batch size, sequence length]`\n",
    "\n",
    "If you can't fill the last batch with enough data, drop the last batch.\n",
    "\n",
    "For exmple, `get_batches([1, 2, 3, 4, 5, 6, 7, 8, 9, 10, 11, 12, 13, 14, 15, 16, 17, 18, 19, 20], 3, 2)` would return a Numpy array of the following:\n",
    "```\n",
    "[\n",
    "  # First Batch\n",
    "  [\n",
    "    # Batch of Input\n",
    "    [[ 1  2], [ 7  8], [13 14]]\n",
    "    # Batch of targets\n",
    "    [[ 2  3], [ 8  9], [14 15]]\n",
    "  ]\n",
    "\n",
    "  # Second Batch\n",
    "  [\n",
    "    # Batch of Input\n",
    "    [[ 3  4], [ 9 10], [15 16]]\n",
    "    # Batch of targets\n",
    "    [[ 4  5], [10 11], [16 17]]\n",
    "  ]\n",
    "\n",
    "  # Third Batch\n",
    "  [\n",
    "    # Batch of Input\n",
    "    [[ 5  6], [11 12], [17 18]]\n",
    "    # Batch of targets\n",
    "    [[ 6  7], [12 13], [18  1]]\n",
    "  ]\n",
    "]\n",
    "```\n",
    "\n",
    "Notice that the last target value in the last batch is the first input value of the first batch. In this case, `1`. This is a common technique used when creating sequence batches, although it is rather unintuitive."
   ]
  },
  {
   "cell_type": "code",
   "execution_count": 8,
   "metadata": {
    "collapsed": false,
    "deletable": true,
    "editable": true
   },
   "outputs": [
    {
     "name": "stdout",
     "output_type": "stream",
     "text": [
      "Tests Passed\n"
     ]
    }
   ],
   "source": [
    "def get_batches(int_text, batch_size, seq_length):\n",
    "    \"\"\"\n",
    "    Return batches of input and target\n",
    "    :param int_text: Text with the words replaced by their ids\n",
    "    :param batch_size: The size of batch\n",
    "    :param seq_length: The length of sequence\n",
    "    :return: Batches as a Numpy array\n",
    "    \"\"\"\n",
    "    words_in_batch = batch_size * seq_length\n",
    "    n_batches = len(int_text) // words_in_batch\n",
    "    full_batches = int_text[:words_in_batch*n_batches]\n",
    "    batches = np.full((n_batches, 2, batch_size, seq_length), -1)\n",
    "    inputs = np.array(full_batches).reshape(batch_size, n_batches, seq_length)\n",
    "    targets = np.roll(inputs, -1)\n",
    "    \n",
    "    for ii in range(n_batches):\n",
    "        for jj in range(batch_size):\n",
    "            batches[ii, 0, jj, :] = inputs[jj, ii, :]\n",
    "            batches[ii, 1, jj, :] = targets[jj, ii, :]\n",
    "\n",
    "    return batches\n",
    "\n",
    "\n",
    "\"\"\"\n",
    "DON'T MODIFY ANYTHING IN THIS CELL THAT IS BELOW THIS LINE\n",
    "\"\"\"\n",
    "\n",
    "tests.test_get_batches(get_batches)"
   ]
  },
  {
   "cell_type": "markdown",
   "metadata": {
    "deletable": true,
    "editable": true
   },
   "source": [
    "## Neural Network Training\n",
    "### Hyperparameters\n",
    "Tune the following parameters:\n",
    "\n",
    "- Set `num_epochs` to the number of epochs.\n",
    "- Set `batch_size` to the batch size.\n",
    "- Set `rnn_size` to the size of the RNNs.\n",
    "- Set `embed_dim` to the size of the embedding.\n",
    "- Set `seq_length` to the length of sequence.\n",
    "- Set `learning_rate` to the learning rate.\n",
    "- Set `show_every_n_batches` to the number of batches the neural network should print progress."
   ]
  },
  {
   "cell_type": "code",
   "execution_count": 36,
   "metadata": {
    "collapsed": true,
    "deletable": true,
    "editable": true
   },
   "outputs": [],
   "source": [
    "# Number of Epochs\n",
    "num_epochs = 25\n",
    "# Batch Size\n",
    "batch_size = 64\n",
    "# RNN Size\n",
    "rnn_size = 2048\n",
    "rnn_layers = 2\n",
    "#dropout keep prob\n",
    "keep_prob = 0.5\n",
    "# Embedding Dimension Size\n",
    "embed_dim = 2048\n",
    "# Sequence Length\n",
    "seq_length = 20\n",
    "# Learning Rate\n",
    "learning_rate = 0.001\n",
    "# Show stats for every n number of batches\n",
    "show_every_n_batches = 5\n",
    "\n",
    "\n",
    "\"\"\"\n",
    "DON'T MODIFY ANYTHING IN THIS CELL THAT IS BELOW THIS LINE\n",
    "\"\"\"\n",
    "save_dir = './save'"
   ]
  },
  {
   "cell_type": "markdown",
   "metadata": {
    "deletable": true,
    "editable": true
   },
   "source": [
    "### Build the Graph\n",
    "Build the graph using the neural network you implemented."
   ]
  },
  {
   "cell_type": "code",
   "execution_count": 29,
   "metadata": {
    "collapsed": true,
    "deletable": true,
    "editable": true
   },
   "outputs": [],
   "source": [
    "\"\"\"\n",
    "DON'T MODIFY ANYTHING IN THIS CELL\n",
    "\"\"\"\n",
    "from tensorflow.contrib import seq2seq\n",
    "\n",
    "train_graph = tf.Graph()\n",
    "with train_graph.as_default():\n",
    "\n",
    "    vocab_size = len(int_to_vocab)\n",
    "    input_text, targets, lr = get_inputs()\n",
    "    input_data_shape = tf.shape(input_text)\n",
    "    cell, initial_state = get_init_cell(input_data_shape[0], rnn_size, rnn_layers, keep_prob)\n",
    "    logits, final_state = build_nn(cell, rnn_size, input_text, vocab_size, embed_dim)\n",
    "\n",
    "    # Probabilities for generating words\n",
    "    probs = tf.nn.softmax(logits, name='probs')\n",
    "\n",
    "    # Loss function\n",
    "    cost = seq2seq.sequence_loss(\n",
    "        logits,\n",
    "        targets,\n",
    "        tf.ones([input_data_shape[0], input_data_shape[1]]))\n",
    "\n",
    "    # Optimizer\n",
    "    optimizer = tf.train.AdamOptimizer(lr)\n",
    "\n",
    "    # Gradient Clipping\n",
    "    gradients = optimizer.compute_gradients(cost)\n",
    "    capped_gradients = [(tf.clip_by_value(grad, -1., 1.), var) for grad, var in gradients if grad is not None]\n",
    "    train_op = optimizer.apply_gradients(capped_gradients)"
   ]
  },
  {
   "cell_type": "markdown",
   "metadata": {
    "deletable": true,
    "editable": true
   },
   "source": [
    "## Train\n",
    "Train the neural network on the preprocessed data.  If you have a hard time getting a good loss, check the [forums](https://discussions.udacity.com/) to see if anyone is having the same problem."
   ]
  },
  {
   "cell_type": "code",
   "execution_count": 30,
   "metadata": {
    "collapsed": false,
    "deletable": true,
    "editable": true
   },
   "outputs": [
    {
     "name": "stdout",
     "output_type": "stream",
     "text": [
      "Epoch   0 Batch    0/53   train_loss = 8.819\n",
      "Epoch   0 Batch    5/53   train_loss = 6.811\n",
      "Epoch   0 Batch   10/53   train_loss = 6.545\n",
      "Epoch   0 Batch   15/53   train_loss = 6.147\n",
      "Epoch   0 Batch   20/53   train_loss = 5.907\n",
      "Epoch   0 Batch   25/53   train_loss = 5.759\n",
      "Epoch   0 Batch   30/53   train_loss = 5.540\n",
      "Epoch   0 Batch   35/53   train_loss = 5.719\n",
      "Epoch   0 Batch   40/53   train_loss = 5.435\n",
      "Epoch   0 Batch   45/53   train_loss = 5.401\n",
      "Epoch   0 Batch   50/53   train_loss = 5.440\n",
      "Epoch   1 Batch    2/53   train_loss = 5.362\n",
      "Epoch   1 Batch    7/53   train_loss = 5.296\n",
      "Epoch   1 Batch   12/53   train_loss = 5.338\n",
      "Epoch   1 Batch   17/53   train_loss = 5.235\n",
      "Epoch   1 Batch   22/53   train_loss = 5.050\n",
      "Epoch   1 Batch   27/53   train_loss = 5.065\n",
      "Epoch   1 Batch   32/53   train_loss = 4.971\n",
      "Epoch   1 Batch   37/53   train_loss = 5.219\n",
      "Epoch   1 Batch   42/53   train_loss = 4.972\n",
      "Epoch   1 Batch   47/53   train_loss = 4.905\n",
      "Epoch   1 Batch   52/53   train_loss = 4.867\n",
      "Epoch   2 Batch    4/53   train_loss = 4.971\n",
      "Epoch   2 Batch    9/53   train_loss = 4.770\n",
      "Epoch   2 Batch   14/53   train_loss = 4.891\n",
      "Epoch   2 Batch   19/53   train_loss = 4.676\n",
      "Epoch   2 Batch   24/53   train_loss = 4.739\n",
      "Epoch   2 Batch   29/53   train_loss = 4.559\n",
      "Epoch   2 Batch   34/53   train_loss = 4.769\n",
      "Epoch   2 Batch   39/53   train_loss = 4.799\n",
      "Epoch   2 Batch   44/53   train_loss = 4.650\n",
      "Epoch   2 Batch   49/53   train_loss = 4.639\n",
      "Epoch   3 Batch    1/53   train_loss = 4.529\n",
      "Epoch   3 Batch    6/53   train_loss = 4.451\n",
      "Epoch   3 Batch   11/53   train_loss = 4.587\n",
      "Epoch   3 Batch   16/53   train_loss = 4.488\n",
      "Epoch   3 Batch   21/53   train_loss = 4.404\n",
      "Epoch   3 Batch   26/53   train_loss = 4.637\n",
      "Epoch   3 Batch   31/53   train_loss = 4.532\n",
      "Epoch   3 Batch   36/53   train_loss = 4.455\n",
      "Epoch   3 Batch   41/53   train_loss = 4.459\n",
      "Epoch   3 Batch   46/53   train_loss = 4.502\n",
      "Epoch   3 Batch   51/53   train_loss = 4.431\n",
      "Epoch   4 Batch    3/53   train_loss = 4.406\n",
      "Epoch   4 Batch    8/53   train_loss = 4.265\n",
      "Epoch   4 Batch   13/53   train_loss = 4.494\n",
      "Epoch   4 Batch   18/53   train_loss = 4.235\n",
      "Epoch   4 Batch   23/53   train_loss = 4.258\n",
      "Epoch   4 Batch   28/53   train_loss = 4.111\n",
      "Epoch   4 Batch   33/53   train_loss = 4.246\n",
      "Epoch   4 Batch   38/53   train_loss = 4.222\n",
      "Epoch   4 Batch   43/53   train_loss = 4.224\n",
      "Epoch   4 Batch   48/53   train_loss = 4.109\n",
      "Epoch   5 Batch    0/53   train_loss = 4.197\n",
      "Epoch   5 Batch    5/53   train_loss = 4.149\n",
      "Epoch   5 Batch   10/53   train_loss = 4.110\n",
      "Epoch   5 Batch   15/53   train_loss = 4.204\n",
      "Epoch   5 Batch   20/53   train_loss = 3.998\n",
      "Epoch   5 Batch   25/53   train_loss = 4.062\n",
      "Epoch   5 Batch   30/53   train_loss = 4.023\n",
      "Epoch   5 Batch   35/53   train_loss = 4.050\n",
      "Epoch   5 Batch   40/53   train_loss = 3.950\n",
      "Epoch   5 Batch   45/53   train_loss = 3.952\n",
      "Epoch   5 Batch   50/53   train_loss = 3.939\n",
      "Epoch   6 Batch    2/53   train_loss = 4.000\n",
      "Epoch   6 Batch    7/53   train_loss = 3.903\n",
      "Epoch   6 Batch   12/53   train_loss = 3.911\n",
      "Epoch   6 Batch   17/53   train_loss = 3.834\n",
      "Epoch   6 Batch   22/53   train_loss = 3.778\n",
      "Epoch   6 Batch   27/53   train_loss = 3.728\n",
      "Epoch   6 Batch   32/53   train_loss = 3.651\n",
      "Epoch   6 Batch   37/53   train_loss = 3.834\n",
      "Epoch   6 Batch   42/53   train_loss = 3.605\n",
      "Epoch   6 Batch   47/53   train_loss = 3.659\n",
      "Epoch   6 Batch   52/53   train_loss = 3.637\n",
      "Epoch   7 Batch    4/53   train_loss = 3.666\n",
      "Epoch   7 Batch    9/53   train_loss = 3.583\n",
      "Epoch   7 Batch   14/53   train_loss = 3.618\n",
      "Epoch   7 Batch   19/53   train_loss = 3.496\n",
      "Epoch   7 Batch   24/53   train_loss = 3.528\n",
      "Epoch   7 Batch   29/53   train_loss = 3.417\n",
      "Epoch   7 Batch   34/53   train_loss = 3.489\n",
      "Epoch   7 Batch   39/53   train_loss = 3.458\n",
      "Epoch   7 Batch   44/53   train_loss = 3.360\n",
      "Epoch   7 Batch   49/53   train_loss = 3.377\n",
      "Epoch   8 Batch    1/53   train_loss = 3.392\n",
      "Epoch   8 Batch    6/53   train_loss = 3.277\n",
      "Epoch   8 Batch   11/53   train_loss = 3.324\n",
      "Epoch   8 Batch   16/53   train_loss = 3.314\n",
      "Epoch   8 Batch   21/53   train_loss = 3.227\n",
      "Epoch   8 Batch   26/53   train_loss = 3.351\n",
      "Epoch   8 Batch   31/53   train_loss = 3.302\n",
      "Epoch   8 Batch   36/53   train_loss = 3.228\n",
      "Epoch   8 Batch   41/53   train_loss = 3.163\n",
      "Epoch   8 Batch   46/53   train_loss = 3.217\n",
      "Epoch   8 Batch   51/53   train_loss = 3.242\n",
      "Epoch   9 Batch    3/53   train_loss = 3.165\n",
      "Epoch   9 Batch    8/53   train_loss = 3.091\n",
      "Epoch   9 Batch   13/53   train_loss = 3.135\n",
      "Epoch   9 Batch   18/53   train_loss = 3.091\n",
      "Epoch   9 Batch   23/53   train_loss = 3.035\n",
      "Epoch   9 Batch   28/53   train_loss = 2.994\n",
      "Epoch   9 Batch   33/53   train_loss = 3.048\n",
      "Epoch   9 Batch   38/53   train_loss = 3.013\n",
      "Epoch   9 Batch   43/53   train_loss = 2.939\n",
      "Epoch   9 Batch   48/53   train_loss = 2.991\n",
      "Epoch  10 Batch    0/53   train_loss = 2.925\n",
      "Epoch  10 Batch    5/53   train_loss = 2.933\n",
      "Epoch  10 Batch   10/53   train_loss = 2.921\n",
      "Epoch  10 Batch   15/53   train_loss = 2.934\n",
      "Epoch  10 Batch   20/53   train_loss = 2.835\n",
      "Epoch  10 Batch   25/53   train_loss = 2.831\n",
      "Epoch  10 Batch   30/53   train_loss = 2.767\n",
      "Epoch  10 Batch   35/53   train_loss = 2.771\n",
      "Epoch  10 Batch   40/53   train_loss = 2.732\n",
      "Epoch  10 Batch   45/53   train_loss = 2.693\n",
      "Epoch  10 Batch   50/53   train_loss = 2.677\n",
      "Epoch  11 Batch    2/53   train_loss = 2.755\n",
      "Epoch  11 Batch    7/53   train_loss = 2.651\n",
      "Epoch  11 Batch   12/53   train_loss = 2.662\n",
      "Epoch  11 Batch   17/53   train_loss = 2.567\n",
      "Epoch  11 Batch   22/53   train_loss = 2.555\n",
      "Epoch  11 Batch   27/53   train_loss = 2.535\n",
      "Epoch  11 Batch   32/53   train_loss = 2.464\n",
      "Epoch  11 Batch   37/53   train_loss = 2.453\n",
      "Epoch  11 Batch   42/53   train_loss = 2.402\n",
      "Epoch  11 Batch   47/53   train_loss = 2.421\n",
      "Epoch  11 Batch   52/53   train_loss = 2.393\n",
      "Epoch  12 Batch    4/53   train_loss = 2.357\n",
      "Epoch  12 Batch    9/53   train_loss = 2.434\n",
      "Epoch  12 Batch   14/53   train_loss = 2.372\n",
      "Epoch  12 Batch   19/53   train_loss = 2.370\n",
      "Epoch  12 Batch   24/53   train_loss = 2.325\n",
      "Epoch  12 Batch   29/53   train_loss = 2.377\n",
      "Epoch  12 Batch   34/53   train_loss = 2.348\n",
      "Epoch  12 Batch   39/53   train_loss = 2.210\n",
      "Epoch  12 Batch   44/53   train_loss = 2.233\n",
      "Epoch  12 Batch   49/53   train_loss = 2.200\n",
      "Epoch  13 Batch    1/53   train_loss = 2.197\n",
      "Epoch  13 Batch    6/53   train_loss = 2.090\n",
      "Epoch  13 Batch   11/53   train_loss = 2.130\n",
      "Epoch  13 Batch   16/53   train_loss = 2.114\n",
      "Epoch  13 Batch   21/53   train_loss = 2.090\n",
      "Epoch  13 Batch   26/53   train_loss = 2.119\n",
      "Epoch  13 Batch   31/53   train_loss = 2.029\n",
      "Epoch  13 Batch   36/53   train_loss = 2.076\n",
      "Epoch  13 Batch   41/53   train_loss = 1.921\n",
      "Epoch  13 Batch   46/53   train_loss = 1.944\n",
      "Epoch  13 Batch   51/53   train_loss = 1.970\n",
      "Epoch  14 Batch    3/53   train_loss = 1.907\n",
      "Epoch  14 Batch    8/53   train_loss = 1.806\n",
      "Epoch  14 Batch   13/53   train_loss = 1.880\n",
      "Epoch  14 Batch   18/53   train_loss = 1.867\n",
      "Epoch  14 Batch   23/53   train_loss = 1.880\n",
      "Epoch  14 Batch   28/53   train_loss = 1.819\n",
      "Epoch  14 Batch   33/53   train_loss = 1.844\n",
      "Epoch  14 Batch   38/53   train_loss = 1.754\n",
      "Epoch  14 Batch   43/53   train_loss = 1.742\n",
      "Epoch  14 Batch   48/53   train_loss = 1.750\n",
      "Epoch  15 Batch    0/53   train_loss = 1.737\n",
      "Epoch  15 Batch    5/53   train_loss = 1.632\n",
      "Epoch  15 Batch   10/53   train_loss = 1.604\n",
      "Epoch  15 Batch   15/53   train_loss = 1.673\n",
      "Epoch  15 Batch   20/53   train_loss = 1.601\n",
      "Epoch  15 Batch   25/53   train_loss = 1.608\n",
      "Epoch  15 Batch   30/53   train_loss = 1.534\n",
      "Epoch  15 Batch   35/53   train_loss = 1.485\n",
      "Epoch  15 Batch   40/53   train_loss = 1.556\n",
      "Epoch  15 Batch   45/53   train_loss = 1.488\n",
      "Epoch  15 Batch   50/53   train_loss = 1.459\n",
      "Epoch  16 Batch    2/53   train_loss = 1.449\n",
      "Epoch  16 Batch    7/53   train_loss = 1.405\n",
      "Epoch  16 Batch   12/53   train_loss = 1.337\n",
      "Epoch  16 Batch   17/53   train_loss = 1.342\n",
      "Epoch  16 Batch   22/53   train_loss = 1.358\n",
      "Epoch  16 Batch   27/53   train_loss = 1.339\n",
      "Epoch  16 Batch   32/53   train_loss = 1.359\n",
      "Epoch  16 Batch   37/53   train_loss = 1.276\n",
      "Epoch  16 Batch   42/53   train_loss = 1.251\n",
      "Epoch  16 Batch   47/53   train_loss = 1.262\n",
      "Epoch  16 Batch   52/53   train_loss = 1.307\n",
      "Epoch  17 Batch    4/53   train_loss = 1.120\n",
      "Epoch  17 Batch    9/53   train_loss = 1.197\n",
      "Epoch  17 Batch   14/53   train_loss = 1.180\n",
      "Epoch  17 Batch   19/53   train_loss = 1.197\n",
      "Epoch  17 Batch   24/53   train_loss = 1.152\n",
      "Epoch  17 Batch   29/53   train_loss = 1.213\n",
      "Epoch  17 Batch   34/53   train_loss = 1.166\n",
      "Epoch  17 Batch   39/53   train_loss = 1.109\n",
      "Epoch  17 Batch   44/53   train_loss = 1.150\n",
      "Epoch  17 Batch   49/53   train_loss = 1.138\n",
      "Epoch  18 Batch    1/53   train_loss = 1.080\n",
      "Epoch  18 Batch    6/53   train_loss = 1.063\n",
      "Epoch  18 Batch   11/53   train_loss = 1.031\n",
      "Epoch  18 Batch   16/53   train_loss = 1.010\n",
      "Epoch  18 Batch   21/53   train_loss = 1.028\n",
      "Epoch  18 Batch   26/53   train_loss = 0.964\n",
      "Epoch  18 Batch   31/53   train_loss = 1.000\n",
      "Epoch  18 Batch   36/53   train_loss = 1.026\n",
      "Epoch  18 Batch   41/53   train_loss = 0.902\n",
      "Epoch  18 Batch   46/53   train_loss = 0.954\n",
      "Epoch  18 Batch   51/53   train_loss = 0.884\n",
      "Epoch  19 Batch    3/53   train_loss = 0.884\n",
      "Epoch  19 Batch    8/53   train_loss = 0.893\n",
      "Epoch  19 Batch   13/53   train_loss = 0.820\n",
      "Epoch  19 Batch   18/53   train_loss = 0.812\n",
      "Epoch  19 Batch   23/53   train_loss = 0.884\n",
      "Epoch  19 Batch   28/53   train_loss = 0.860\n",
      "Epoch  19 Batch   33/53   train_loss = 0.858\n",
      "Epoch  19 Batch   38/53   train_loss = 0.804\n",
      "Epoch  19 Batch   43/53   train_loss = 0.816\n",
      "Epoch  19 Batch   48/53   train_loss = 0.825\n",
      "Epoch  20 Batch    0/53   train_loss = 0.777\n",
      "Epoch  20 Batch    5/53   train_loss = 0.769\n",
      "Epoch  20 Batch   10/53   train_loss = 0.739\n",
      "Epoch  20 Batch   15/53   train_loss = 0.718\n",
      "Epoch  20 Batch   20/53   train_loss = 0.719\n",
      "Epoch  20 Batch   25/53   train_loss = 0.684\n",
      "Epoch  20 Batch   30/53   train_loss = 0.685\n",
      "Epoch  20 Batch   35/53   train_loss = 0.684\n",
      "Epoch  20 Batch   40/53   train_loss = 0.733\n",
      "Epoch  20 Batch   45/53   train_loss = 0.679\n",
      "Epoch  20 Batch   50/53   train_loss = 0.657\n",
      "Epoch  21 Batch    2/53   train_loss = 0.692\n",
      "Epoch  21 Batch    7/53   train_loss = 0.679\n",
      "Epoch  21 Batch   12/53   train_loss = 0.600\n",
      "Epoch  21 Batch   17/53   train_loss = 0.654\n",
      "Epoch  21 Batch   22/53   train_loss = 0.658\n",
      "Epoch  21 Batch   27/53   train_loss = 0.601\n",
      "Epoch  21 Batch   32/53   train_loss = 0.635\n",
      "Epoch  21 Batch   37/53   train_loss = 0.603\n",
      "Epoch  21 Batch   42/53   train_loss = 0.578\n",
      "Epoch  21 Batch   47/53   train_loss = 0.596\n",
      "Epoch  21 Batch   52/53   train_loss = 0.596\n",
      "Epoch  22 Batch    4/53   train_loss = 0.519\n",
      "Epoch  22 Batch    9/53   train_loss = 0.557\n",
      "Epoch  22 Batch   14/53   train_loss = 0.538\n",
      "Epoch  22 Batch   19/53   train_loss = 0.518\n",
      "Epoch  22 Batch   24/53   train_loss = 0.532\n",
      "Epoch  22 Batch   29/53   train_loss = 0.610\n",
      "Epoch  22 Batch   34/53   train_loss = 0.578\n",
      "Epoch  22 Batch   39/53   train_loss = 0.563\n",
      "Epoch  22 Batch   44/53   train_loss = 0.539\n",
      "Epoch  22 Batch   49/53   train_loss = 0.527\n",
      "Epoch  23 Batch    1/53   train_loss = 0.504\n",
      "Epoch  23 Batch    6/53   train_loss = 0.506\n",
      "Epoch  23 Batch   11/53   train_loss = 0.488\n",
      "Epoch  23 Batch   16/53   train_loss = 0.492\n",
      "Epoch  23 Batch   21/53   train_loss = 0.468\n",
      "Epoch  23 Batch   26/53   train_loss = 0.502\n",
      "Epoch  23 Batch   31/53   train_loss = 0.483\n",
      "Epoch  23 Batch   36/53   train_loss = 0.489\n",
      "Epoch  23 Batch   41/53   train_loss = 0.464\n",
      "Epoch  23 Batch   46/53   train_loss = 0.508\n",
      "Epoch  23 Batch   51/53   train_loss = 0.458\n",
      "Epoch  24 Batch    3/53   train_loss = 0.431\n",
      "Epoch  24 Batch    8/53   train_loss = 0.437\n",
      "Epoch  24 Batch   13/53   train_loss = 0.401\n",
      "Epoch  24 Batch   18/53   train_loss = 0.426\n",
      "Epoch  24 Batch   23/53   train_loss = 0.440\n",
      "Epoch  24 Batch   28/53   train_loss = 0.467\n",
      "Epoch  24 Batch   33/53   train_loss = 0.438\n",
      "Epoch  24 Batch   38/53   train_loss = 0.424\n",
      "Epoch  24 Batch   43/53   train_loss = 0.424\n",
      "Epoch  24 Batch   48/53   train_loss = 0.423\n",
      "Model Trained and Saved\n"
     ]
    }
   ],
   "source": [
    "\"\"\"\n",
    "DON'T MODIFY ANYTHING IN THIS CELL\n",
    "\"\"\"\n",
    "batches = get_batches(int_text, batch_size, seq_length)\n",
    "\n",
    "with tf.Session(graph=train_graph) as sess:\n",
    "    sess.run(tf.global_variables_initializer())\n",
    "\n",
    "    for epoch_i in range(num_epochs):\n",
    "        state = sess.run(initial_state, {input_text: batches[0][0]})\n",
    "\n",
    "        for batch_i, (x, y) in enumerate(batches):\n",
    "\n",
    "            feed = {\n",
    "                input_text: x,\n",
    "                targets: y,\n",
    "                initial_state: state,\n",
    "                lr: learning_rate}\n",
    "            train_loss, state, _ = sess.run([cost, final_state, train_op], feed)\n",
    "\n",
    "            # Show every <show_every_n_batches> batches\n",
    "            if (epoch_i * len(batches) + batch_i) % show_every_n_batches == 0:\n",
    "                print('Epoch {:>3} Batch {:>4}/{}   train_loss = {:.3f}'.format(\n",
    "                    epoch_i,\n",
    "                    batch_i,\n",
    "                    len(batches),\n",
    "                    train_loss))\n",
    " \n",
    "    # Save Model\n",
    "    saver = tf.train.Saver()\n",
    "    saver.save(sess, save_dir)\n",
    "    print('Model Trained and Saved')"
   ]
  },
  {
   "cell_type": "markdown",
   "metadata": {
    "deletable": true,
    "editable": true
   },
   "source": [
    "## Save Parameters\n",
    "Save `seq_length` and `save_dir` for generating a new TV script."
   ]
  },
  {
   "cell_type": "code",
   "execution_count": 31,
   "metadata": {
    "collapsed": true,
    "deletable": true,
    "editable": true
   },
   "outputs": [],
   "source": [
    "\"\"\"\n",
    "DON'T MODIFY ANYTHING IN THIS CELL\n",
    "\"\"\"\n",
    "# Save parameters for checkpoint\n",
    "helper.save_params((seq_length, save_dir))"
   ]
  },
  {
   "cell_type": "markdown",
   "metadata": {
    "deletable": true,
    "editable": true
   },
   "source": [
    "# Checkpoint"
   ]
  },
  {
   "cell_type": "code",
   "execution_count": 32,
   "metadata": {
    "collapsed": true,
    "deletable": true,
    "editable": true
   },
   "outputs": [],
   "source": [
    "\"\"\"\n",
    "DON'T MODIFY ANYTHING IN THIS CELL\n",
    "\"\"\"\n",
    "import tensorflow as tf\n",
    "import numpy as np\n",
    "import helper\n",
    "import problem_unittests as tests\n",
    "\n",
    "_, vocab_to_int, int_to_vocab, token_dict = helper.load_preprocess()\n",
    "seq_length, load_dir = helper.load_params()"
   ]
  },
  {
   "cell_type": "markdown",
   "metadata": {
    "deletable": true,
    "editable": true
   },
   "source": [
    "## Implement Generate Functions\n",
    "### Get Tensors\n",
    "Get tensors from `loaded_graph` using the function [`get_tensor_by_name()`](https://www.tensorflow.org/api_docs/python/tf/Graph#get_tensor_by_name).  Get the tensors using the following names:\n",
    "- \"input:0\"\n",
    "- \"initial_state:0\"\n",
    "- \"final_state:0\"\n",
    "- \"probs:0\"\n",
    "\n",
    "Return the tensors in the following tuple `(InputTensor, InitialStateTensor, FinalStateTensor, ProbsTensor)` "
   ]
  },
  {
   "cell_type": "code",
   "execution_count": 33,
   "metadata": {
    "collapsed": false,
    "deletable": true,
    "editable": true
   },
   "outputs": [
    {
     "name": "stdout",
     "output_type": "stream",
     "text": [
      "Tests Passed\n"
     ]
    }
   ],
   "source": [
    "\"\"\"\n",
    "    Get input, initial state, final state, and probabilities tensor from <loaded_graph>\n",
    "    :param loaded_graph: TensorFlow graph loaded from file\n",
    "    :return: Tuple (InputTensor, InitialStateTensor, FinalStateTensor, ProbsTensor)\n",
    "\"\"\"\n",
    "def get_tensors(loaded_graph):\n",
    "    input_tensor = loaded_graph.get_tensor_by_name('input:0') \n",
    "    initial_state = loaded_graph.get_tensor_by_name('initial_state:0')\n",
    "    final_state = loaded_graph.get_tensor_by_name('final_state:0')\n",
    "    probs = loaded_graph.get_tensor_by_name('probs:0')\n",
    "    return input_tensor, initial_state, final_state, probs\n",
    "\n",
    "\n",
    "\"\"\"\n",
    "DON'T MODIFY ANYTHING IN THIS CELL THAT IS BELOW THIS LINE\n",
    "\"\"\"\n",
    "tests.test_get_tensors(get_tensors)"
   ]
  },
  {
   "cell_type": "markdown",
   "metadata": {
    "deletable": true,
    "editable": true
   },
   "source": [
    "### Choose Word\n",
    "Implement the `pick_word()` function to select the next word using `probabilities`."
   ]
  },
  {
   "cell_type": "code",
   "execution_count": 34,
   "metadata": {
    "collapsed": false,
    "deletable": true,
    "editable": true
   },
   "outputs": [
    {
     "name": "stdout",
     "output_type": "stream",
     "text": [
      "Tests Passed\n"
     ]
    }
   ],
   "source": [
    "\"\"\"\n",
    "    Pick the next word in the generated text\n",
    "    :param probabilities: Probabilites of the next word\n",
    "    :param int_to_vocab: Dictionary of word ids as the keys and words as the values\n",
    "    :return: String of the predicted word\n",
    "\"\"\"\n",
    "def pick_word(probabilities, int_to_vocab):\n",
    "    return int_to_vocab[np.argmax(probabilities)]\n",
    "\n",
    "\n",
    "\"\"\"\n",
    "DON'T MODIFY ANYTHING IN THIS CELL THAT IS BELOW THIS LINE\n",
    "\"\"\"\n",
    "tests.test_pick_word(pick_word)"
   ]
  },
  {
   "cell_type": "markdown",
   "metadata": {
    "deletable": true,
    "editable": true
   },
   "source": [
    "## Generate TV Script\n",
    "This will generate the TV script for you.  Set `gen_length` to the length of TV script you want to generate."
   ]
  },
  {
   "cell_type": "code",
   "execution_count": 35,
   "metadata": {
    "collapsed": false,
    "deletable": true,
    "editable": true
   },
   "outputs": [
    {
     "name": "stdout",
     "output_type": "stream",
     "text": [
      "moe_szyslak:(sobs) yeah.\n",
      "homer_simpson:(surprised) did you say that one?\n",
      "homer_simpson: oh, it's probably all over. but a lot of things. you know, marge. maybe what happened in here?\n",
      "homer_simpson: no... no, we'll get that letter.\n",
      "marge_simpson: come on, you guys are getting loaded off my friends.\n",
      "kirk_van_houten: my friend!\n",
      "carl_carlson: hey, ain't that back on the japanese wire.\n",
      "krusty_the_clown: i heartily endorse this event or product.\n",
      "tv_daughter: what a feeling i know that voice in the sequel.\n",
      "moe_szyslak: oh, no. it is very good for me.\n",
      "moe_szyslak: sorry, homer.\n",
      "homer_simpson: you dirty teen.\n",
      "moe_szyslak:(pained) oh, i want to spend that.\n",
      "kirk_van_houten: i was just behind the kids to sell the new burt in movie because i wouldn't pick up my delightfully outlook.\n",
      "lenny_leonard: what about you, lenny?\n",
      "moe_szyslak: freaky, people, booze and go.\n",
      "lenny_leonard: you know, moe, you sure look angry\n"
     ]
    }
   ],
   "source": [
    "gen_length = 200\n",
    "# homer_simpson, moe_szyslak, or Barney_Gumble\n",
    "prime_word = 'moe_szyslak'\n",
    "\n",
    "\"\"\"\n",
    "DON'T MODIFY ANYTHING IN THIS CELL THAT IS BELOW THIS LINE\n",
    "\"\"\"\n",
    "loaded_graph = tf.Graph()\n",
    "with tf.Session(graph=loaded_graph) as sess:\n",
    "    # Load saved model\n",
    "    loader = tf.train.import_meta_graph(load_dir + '.meta')\n",
    "    loader.restore(sess, load_dir)\n",
    "\n",
    "    # Get Tensors from loaded model\n",
    "    input_text, initial_state, final_state, probs = get_tensors(loaded_graph)\n",
    "\n",
    "    # Sentences generation setup\n",
    "    gen_sentences = [prime_word + ':']\n",
    "    prev_state = sess.run(initial_state, {input_text: np.array([[1]])})\n",
    "\n",
    "    # Generate sentences\n",
    "    for n in range(gen_length):\n",
    "        # Dynamic Input\n",
    "        dyn_input = [[vocab_to_int[word] for word in gen_sentences[-seq_length:]]]\n",
    "        dyn_seq_length = len(dyn_input[0])\n",
    "\n",
    "        # Get Prediction\n",
    "        probabilities, prev_state = sess.run(\n",
    "            [probs, final_state],\n",
    "            {input_text: dyn_input, initial_state: prev_state})\n",
    "        \n",
    "        pred_word = pick_word(probabilities[dyn_seq_length-1], int_to_vocab)\n",
    "\n",
    "        gen_sentences.append(pred_word)\n",
    "    \n",
    "    # Remove tokens\n",
    "    tv_script = ' '.join(gen_sentences)\n",
    "    for key, token in token_dict.items():\n",
    "        ending = ' ' if key in ['\\n', '(', '\"'] else ''\n",
    "        tv_script = tv_script.replace(' ' + token.lower(), key)\n",
    "    tv_script = tv_script.replace('\\n ', '\\n')\n",
    "    tv_script = tv_script.replace('( ', '(')\n",
    "        \n",
    "    print(tv_script)"
   ]
  },
  {
   "cell_type": "markdown",
   "metadata": {
    "deletable": true,
    "editable": true
   },
   "source": [
    "# The TV Script is Nonsensical\n",
    "It's ok if the TV script doesn't make any sense.  We trained on less than a megabyte of text.  In order to get good results, you'll have to use a smaller vocabulary or get more data.  Luckly there's more data!  As we mentioned in the begging of this project, this is a subset of [another dataset](https://www.kaggle.com/wcukierski/the-simpsons-by-the-data).  We didn't have you train on all the data, because that would take too long.  However, you are free to train your neural network on all the data.  After you complete the project, of course.\n",
    "# Submitting This Project\n",
    "When submitting this project, make sure to run all the cells before saving the notebook. Save the notebook file as \"dlnd_tv_script_generation.ipynb\" and save it as a HTML file under \"File\" -> \"Download as\". Include the \"helper.py\" and \"problem_unittests.py\" files in your submission."
   ]
  }
 ],
 "metadata": {
  "kernelspec": {
   "display_name": "Python 3",
   "language": "python",
   "name": "python3"
  },
  "language_info": {
   "codemirror_mode": {
    "name": "ipython",
    "version": 3
   },
   "file_extension": ".py",
   "mimetype": "text/x-python",
   "name": "python",
   "nbconvert_exporter": "python",
   "pygments_lexer": "ipython3",
   "version": "3.5.2"
  },
  "widgets": {
   "state": {},
   "version": "1.1.2"
  }
 },
 "nbformat": 4,
 "nbformat_minor": 1
}
